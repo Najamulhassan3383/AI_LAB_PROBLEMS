{
 "cells": [
  {
   "cell_type": "code",
   "execution_count": 6,
   "metadata": {},
   "outputs": [],
   "source": [
    "class Node:\n",
    "    def __init__(self, state, parent, neighbor, total_cost, level):\n",
    "        self.state = state\n",
    "        self.parent = parent\n",
    "        self.neighbor = neighbor\n",
    "        self.total_cost = total_cost\n",
    "        self.level = level"
   ]
  },
  {
   "cell_type": "code",
   "execution_count": 3,
   "metadata": {},
   "outputs": [
    {
     "data": {
      "image/png": "[encoded data removed]",
      "text/plain": [
       "<Figure size 640x480 with 1 Axes>"
      ]
     },
     "metadata": {},
     "output_type": "display_data"
    }
   ],
   "source": [
    "import networkx as nx\n",
    "import matplotlib.pyplot as plt\n",
    "\n",
    "# Create a dictionary of nodes and their adjacent nodes\n",
    "graphrep = {'A': ['B', 'C', 'E'], 'B': ['A', 'D', 'E'], 'C': ['A', 'F', 'G'], 'D': ['B', 'E'], 'E': ['A', 'B', 'D'], 'F': ['C'], 'G': ['C']}\n",
    "\n",
    "# Create a graph object from the dictionary\n",
    "G = nx.Graph(graphrep)\n",
    "\n",
    "# Draw the graph with labels\n",
    "nx.draw(G, with_labels=True, node_color='orange', edge_color='green')\n",
    "plt.show()"
   ]
  },
  {
   "cell_type": "code",
   "execution_count": 7,
   "metadata": {},
   "outputs": [],
   "source": [
    "# Node('A', None, ['B', 'C', 'E'], 0, 0)\n",
    "Graph = {\n",
    "    'A': Node('A', None, ['B', 'C', 'E'], 0, 0),\n",
    "    'B': Node('B', None, ['A', 'D', 'E'], 0, 0),\n",
    "    'C': Node('C', None, ['A', 'F', 'G'], 0, 0),\n",
    "    'D': Node('D', None, ['B', 'E'], 0, 0),\n",
    "    'E': Node('E', None, ['A', 'B', 'D'], 0, 0),\n",
    "    'F': Node('F', None, ['C'], 0, 0),\n",
    "    'G': Node('G', None, ['C'], 0, 0)\n",
    "}"
   ]
  },
  {
   "cell_type": "code",
   "execution_count": 58,
   "metadata": {},
   "outputs": [],
   "source": [
    "def actionSequence(start, goal, Graph):\n",
    "    path = [goal]\n",
    "    parent = Graph[goal].parent\n",
    "    print(\"parent of start is \", Graph[start].parent)\n",
    "    while parent!= start:\n",
    "        # print(parent)\n",
    "        path.append(parent)\n",
    "        parent = Graph[parent].parent\n",
    "    path.append(start)\n",
    "    path.reverse()\n",
    "    return path"
   ]
  },
  {
   "cell_type": "code",
   "execution_count": 59,
   "metadata": {},
   "outputs": [
    {
     "name": "stdout",
     "output_type": "stream",
     "text": [
      "B  is added to queue\n",
      "E  is added to queue\n",
      "A  is added to queue\n",
      "C  is added to queue\n",
      "parent of start is  B\n",
      "['D', 'B', 'A', 'C']\n"
     ]
    }
   ],
   "source": [
    "def BFS(initial_state,goal_state,Graph):\n",
    "   \n",
    "\n",
    "    queue = [initial_state]\n",
    "    explored = set()  # Use a set to keep track of explored nodes\n",
    "    explored.add(initial_state)  # Add the initial state to the explored set\n",
    "    while queue:\n",
    "        state = queue.pop(0)\n",
    "        explored.add(state) \n",
    "        if state == goal_state:\n",
    "            return actionSequence(initial_state, goal_state, Graph)\n",
    "        for neighbor in Graph[state].neighbor:\n",
    "            if neighbor not in explored and neighbor not in queue:\n",
    "                \n",
    "                queue.append(neighbor)\n",
    "                print(neighbor, \" is added to queue\")\n",
    "                \n",
    "                Graph[neighbor].parent = state\n",
    "                Graph[neighbor].level = Graph[state].level + 1\n",
    "                Graph[neighbor].total_cost = Graph[neighbor].level\n",
    "    return None\n",
    "\n",
    "# Call the BFS function after the Node class and Graph dictionary are defined\n",
    "print(BFS(\"D\", \"C\", Graph))\n"
   ]
  },
  {
   "cell_type": "markdown",
   "metadata": {},
   "source": [
    "lab task one"
   ]
  },
  {
   "cell_type": "code",
   "execution_count": 60,
   "metadata": {},
   "outputs": [],
   "source": [
    "Romania_map = {\n",
    "    'Arad': Node('Arad', None, ['Zerind', 'Sibiu', 'Timisoara'], 0, 0),\n",
    "    'Zerind': Node('Zerind', None, ['Arad', 'Oradea'], 0, 0),\n",
    "    'Oradea': Node('Oradea', None, ['Zerind', 'Sibiu'], 0, 0),\n",
    "    'Sibiu': Node('Sibiu', None, ['Arad', 'Oradea', 'Fagaras', 'Rimnicu Vilcea'], 0, 0),\n",
    "    'Timisoara': Node('Timisoara', None, ['Arad', 'Lugoj'], 0, 0),\n",
    "    'Lugoj': Node('Lugoj', None, ['Timisoara', 'Mehadia'], 0, 0),\n",
    "    'Mehadia': Node('Mehadia', None, ['Lugoj', 'Drobeta'], 0, 0),\n",
    "    'Drobeta': Node('Drobeta', None, ['Mehadia', 'Craiova'], 0, 0),\n",
    "    'Craiova': Node('Craiova', None, ['Drobeta', 'Rimnicu Vilcea', 'Pitesti'], 0, 0),\n",
    "    'Rimnicu Vilcea': Node('Rimnicu Vilcea', None, ['Sibiu', 'Pitesti', 'Craiova'], 0, 0),\n",
    "    'Fagaras': Node('Fagaras', None, ['Sibiu', 'Bucharest'], 0, 0),\n",
    "    'Pitesti': Node('Pitesti', None, ['Rimnicu Vilcea', 'Craiova', 'Bucharest'], 0, 0),\n",
    "    'Bucharest': Node('Bucharest', None, ['Fagaras', 'Pitesti', 'Giurgiu', 'Urziceni'], 0, 0),\n",
    "    'Giurgiu': Node('Giurgiu', None, ['Bucharest'], 0, 0),\n",
    "    'Urziceni': Node('Urziceni', None, ['Bucharest', 'Vaslui', 'Hirsova'], 0, 0),\n",
    "    'Vaslui': Node('Vaslui', None, ['Urziceni', 'Iasi'], 0, 0),\n",
    "    'Iasi': Node('Iasi', None, ['Vaslui', 'Neamt'], 0, 0),\n",
    "    'Neamt': Node('Neamt', None, ['Iasi'], 0, 0)\n",
    "}"
   ]
  },
  {
   "cell_type": "code",
   "execution_count": 61,
   "metadata": {},
   "outputs": [
    {
     "name": "stdout",
     "output_type": "stream",
     "text": [
      "Zerind  is added to queue\n",
      "Sibiu  is added to queue\n",
      "Timisoara  is added to queue\n",
      "Oradea  is added to queue\n",
      "Fagaras  is added to queue\n",
      "Rimnicu Vilcea  is added to queue\n",
      "Lugoj  is added to queue\n",
      "Bucharest  is added to queue\n",
      "Pitesti  is added to queue\n",
      "Craiova  is added to queue\n",
      "Mehadia  is added to queue\n",
      "parent of start is  None\n"
     ]
    },
    {
     "data": {
      "text/plain": [
       "['Arad', 'Sibiu', 'Fagaras', 'Bucharest']"
      ]
     },
     "execution_count": 61,
     "metadata": {},
     "output_type": "execute_result"
    }
   ],
   "source": [
    "BFS('Arad', 'Bucharest', Romania_map)"
   ]
  },
  {
   "cell_type": "code",
   "execution_count": 62,
   "metadata": {},
   "outputs": [],
   "source": [
    "\n",
    "\n",
    "puzzle = [\n",
    "    ['#', '#', '#', '#', '#', 'E', '#', '#'],\n",
    "    ['#', '.', '.', '.', '.', '.', '.', '#'],\n",
    "    ['#', '.', '#', '#', '#', '#', '.', '#'],\n",
    "    ['#', '.', '#', 'S', '#', '.', '.', '#'],\n",
    "    ['#', '.', '#', '.', '#', '#', '.', '#'],\n",
    "    ['#', '.', '#', '.', '#', '.', '.', '#'],\n",
    "    ['#', '.', '.', '.', '.', '.', '.', '#'],\n",
    "    ['#', '#', '#', '#', '#', '#', '#', '#']\n",
    "]\n"
   ]
  },
  {
   "cell_type": "code",
   "execution_count": 69,
   "metadata": {},
   "outputs": [
    {
     "name": "stdout",
     "output_type": "stream",
     "text": [
      "3\n"
     ]
    }
   ],
   "source": [
    "def find_start(puzzle):\n",
    "    for i in range(len(puzzle)):\n",
    "        for j in range(len(puzzle[0])):\n",
    "            if(puzzle[i][j] == 'S'):\n",
    "                return (i,j)\n",
    "    return None\n",
    "\n",
    "print(find_start(puzzle)[0])"
   ]
  },
  {
   "cell_type": "code",
   "execution_count": 64,
   "metadata": {},
   "outputs": [],
   "source": [
    "def find_end(puzzle):\n",
    "    for i in len(puzzle):\n",
    "        for j in len(puzzle[0]):\n",
    "            if(puzzle[i][j] == 'E'):\n",
    "                return (i,j)\n",
    "    return None"
   ]
  },
  {
   "cell_type": "code",
   "execution_count": 67,
   "metadata": {},
   "outputs": [],
   "source": [
    "def initilze_queue(puzzle):\n",
    "    matrix = []\n",
    "    for i in range(len(puzzle)):\n",
    "        row = []\n",
    "        for j in range(len(puzzle[0])):\n",
    "            row.append(False)\n",
    "        matrix.append(row)\n",
    "        \n",
    "    return matrix"
   ]
  },
  {
   "cell_type": "code",
   "execution_count": 71,
   "metadata": {},
   "outputs": [
    {
     "data": {
      "text/plain": [
       "13"
      ]
     },
     "execution_count": 71,
     "metadata": {},
     "output_type": "execute_result"
    }
   ],
   "source": [
    "def solve_puzzle(puzzle):\n",
    "    R,C = len(puzzle), len(puzzle[0])\n",
    "    start = find_start(puzzle)\n",
    "    \n",
    "    queue = []\n",
    "    explored = initilze_queue(puzzle)\n",
    "    queue.append((start[0],start[1], 0))\n",
    "    # you can go up, down,left,and right\n",
    "    directions = [[0, 1], [0, -1], [1, 0], [-1, 0]]\n",
    "    \n",
    "    while(queue):\n",
    "        current_node = queue.pop(0)\n",
    "        current_x = current_node[0]\n",
    "        current_y = current_node[1]\n",
    "        current_cost = current_node[2]\n",
    "        explored[current_node[0]][current_node[1]] = True\n",
    "        if(puzzle[current_x][current_y] == \"E\"):\n",
    "            return current_cost\n",
    "        for neighbour in directions:\n",
    "            new_x = current_x + neighbour[0]\n",
    "            new_y = current_y + neighbour[1]\n",
    "            #check if the new coordinates are withing the boundary\n",
    "            if(new_x <0 or new_x >= R or new_y<0 or new_y>= C or puzzle[new_x][new_y] == '#' or explored[new_x][new_y] == True ):\n",
    "                continue\n",
    "            else:\n",
    "                queue.append((new_x,new_y, current_cost + 1))\n",
    "                \n",
    "        \n",
    "solve_puzzle(puzzle)"
   ]
  }
 ],
 "metadata": {
  "kernelspec": {
   "display_name": "base",
   "language": "python",
   "name": "python3"
  },
  "language_info": {
   "codemirror_mode": {
    "name": "ipython",
    "version": 3
   },
   "file_extension": ".py",
   "mimetype": "text/x-python",
   "name": "python",
   "nbconvert_exporter": "python",
   "pygments_lexer": "ipython3",
   "version": "3.11.4"
  },
  "orig_nbformat": 4
 },
 "nbformat": 4,
 "nbformat_minor": 2
}
