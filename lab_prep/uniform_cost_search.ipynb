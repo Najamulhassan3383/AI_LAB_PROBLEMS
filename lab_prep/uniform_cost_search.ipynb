{
 "cells": [
  {
   "cell_type": "code",
   "execution_count": 1,
   "metadata": {},
   "outputs": [],
   "source": [
    "import math\n",
    "class Node:\n",
    "    def __init__(self, state, parent, neighbor, total_cost, level):\n",
    "        self.state = state\n",
    "        self.parent = parent\n",
    "        self.neighbor = neighbor\n",
    "        self.total_cost = total_cost\n",
    "        self.level = level"
   ]
  },
  {
   "cell_type": "code",
   "execution_count": 2,
   "metadata": {},
   "outputs": [],
   "source": [
    "# graph = {'A': Node('A', None, [('B', 6), ('C',9), ('E',1)], 0),\n",
    "# 'B': Node('B', None, [('A', 6), ('D',3), ('E',4)], 0),\n",
    "# 'C': Node('C', None, [('A', 9), ('F',2), ('G',3)], 0),\n",
    "# 'D': Node('D', None, [('B',3), ('E, 5), ('E',7)], 0),\n",
    "# 'E': Node('E', None, [('A',1), ('B',4), ('D',5), ('F', 6)], 0),\n",
    "# 'F': Node('F', None, [('C',2), ('E', 6), ('D',7)], 0),\n",
    "# 'G': Node('G', None, [('C',3)], 0))\n",
    "\n",
    "graph = {\n",
    "    'A': Node('A', None, [('B', 6), ('C',9), ('E',1)], 0, 0), \n",
    "    'B': Node('B', None, [('A', 6), ('D',3), ('E',4)], 0, 0),\n",
    "    'C': Node('C', None, [('A', 9), ('F',2), ('G',3)], 0, 0),\n",
    "    'D': Node('D', None, [('B',3), ('E', 5), ('F',7)], 0, 0),\n",
    "    'E': Node('E', None, [('A',1), ('B',4), ('D',5), ('F', 6)], 0, 0),\n",
    "    'F': Node('F', None, [('C',2), ('E', 6), ('D',7)], 0, 0),\n",
    "    'G': Node('G', None, [('C',3)], 0, 0)\n",
    "    \n",
    "}\n",
    "romanian_map = {\n",
    "    'Arad': Node('Arad', None, [('Zerind', 75), ('Sibiu', 140), ('Timisoara', 118)], 0, 0),\n",
    "    'Zerind': Node('Zerind', None, [('Arad', 75), ('Oradea', 71)], 0, 0),\n",
    "    'Oradea': Node('Oradea', None, [('Zerind', 71), ('Sibiu', 151)], 0, 0),\n",
    "    'Sibiu': Node('Sibiu', None, [('Arad', 140), ('Oradea', 151), ('Fagaras', 99), ('Rimnicu Vilcea', 80)], 0, 0),\n",
    "    'Timisoara': Node('Timisoara', None, [('Arad', 118), ('Lugoj', 111)], 0, 0),\n",
    "    'Lugoj': Node('Lugoj', None, [('Timisoara', 111), ('Mehadia', 70)], 0, 0),\n",
    "    'Mehadia': Node('Mehadia', None, [('Lugoj', 70), ('Drobeta', 75)], 0, 0),\n",
    "    'Drobeta': Node('Drobeta', None, [('Mehadia', 75), ('Craiova', 120)], 0, 0),\n",
    "    'Craiova': Node('Craiova', None, [('Drobeta', 120), ('Rimnicu Vilcea', 146), ('Pitesti', 138)], 0, 0),\n",
    "    'Rimnicu Vilcea': Node('Rimnicu Vilcea', None, [('Sibiu', 80), ('Craiova', 146), ('Pitesti', 97)], 0, 0),\n",
    "    'Fagaras': Node('Fagaras', None, [('Sibiu', 99), ('Bucharest', 211)], 0, 0),\n",
    "    'Pitesti': Node('Pitesti', None, [('Rimnicu Vilcea', 97), ('Craiova', 138), ('Bucharest', 101)], 0, 0),\n",
    "    'Bucharest': Node('Bucharest', None, [('Fagaras', 211), ('Pitesti', 101), ('Giurgiu', 90), ('Urziceni', 85)], 0, 0),\n",
    "    'Giurgiu': Node('Giurgiu', None, [('Bucharest', 90)], 0, 0),\n",
    "    'Urziceni': Node('Urziceni', None, [('Bucharest', 85), ('Hirsova', 98), ('Vaslui', 142)], 0, 0),\n",
    "    'Hirsova': Node('Hirsova', None, [('Urziceni', 98), ('Eforie', 86)], 0, 0),\n",
    "    'Eforie': Node('Eforie', None, [('Hirsova', 86)], 0, 0),\n",
    "    'Vaslui': Node('Vaslui', None, [('Urziceni', 142), ('Iasi', 92)], 0, 0),\n",
    "    'Iasi': Node('Iasi', None, [('Vaslui', 92), ('Neamt', 87)], 0, 0),\n",
    "    'Neamt': Node('Neamt', None, [('Iasi', 87)], 0, 0)\n",
    "}"
   ]
  },
  {
   "cell_type": "code",
   "execution_count": 3,
   "metadata": {},
   "outputs": [],
   "source": [
    "def actionSequence(start, goal, Graph):\n",
    "    cost = Graph[goal].total_cost\n",
    "    path = [(goal,cost)]\n",
    "    parent = Graph[goal].parent\n",
    "    \n",
    "    while parent != start:\n",
    "        cost = Graph[parent].total_cost\n",
    "        path.append((parent,cost))\n",
    "        parent = Graph[parent].parent\n",
    "    path.append((start,Graph[start].total_cost))\n",
    "    path.reverse()\n",
    "    return path"
   ]
  },
  {
   "cell_type": "code",
   "execution_count": 4,
   "metadata": {},
   "outputs": [],
   "source": [
    "\n",
    "\n",
    "def find_min(queue):\n",
    "    min = math.inf\n",
    "    node = ''\n",
    "    for i in queue:\n",
    "        if min > queue[i][1]:\n",
    "            min = queue[i][1]\n",
    "            node =  i \n",
    "    return node\n",
    "        "
   ]
  },
  {
   "cell_type": "code",
   "execution_count": 5,
   "metadata": {},
   "outputs": [
    {
     "name": "stdout",
     "output_type": "stream",
     "text": [
      "[('Arad', 0), ('Sibiu', 140), ('Rimnicu Vilcea', 220), ('Pitesti', 317), ('Bucharest', 418)]\n"
     ]
    }
   ],
   "source": [
    "def UCS(start,end,graph):\n",
    "    visited = []\n",
    "    queue = dict()\n",
    "    visited.append(start)\n",
    "    #node = (parent, total_cost)\n",
    "    queue[start] = (None,0)\n",
    "    while queue:\n",
    "        current_node = find_min(queue)\n",
    "        queue.pop(current_node)\n",
    "        if graph[current_node].state == end:\n",
    "            return actionSequence(start,end, graph)\n",
    "        visited.append(current_node)\n",
    "        #traverse the neighbors\n",
    "        for node,cost in graph[current_node].neighbor:\n",
    "            current_cost = cost + graph[current_node].total_cost\n",
    "            if ((node not in visited and node not in queue) or (node in queue and queue[node][1] >= current_cost)):\n",
    "                queue[node] = (current_node, current_cost)\n",
    "                graph[node].parent = current_node\n",
    "                graph[node].total_cost = current_cost\n",
    "    return None\n",
    "\n",
    "print(UCS('Arad','Bucharest',romanian_map))\n",
    "            \n",
    "            \n",
    "        \n",
    "    "
   ]
  },
  {
   "cell_type": "code",
   "execution_count": 6,
   "metadata": {},
   "outputs": [],
   "source": [
    "#what we have study today,\n",
    "# 1- BFS (path find, solved a maze problem)\n",
    "# 2- DFS (path find, cooded a boggle game)\n",
    "# 3- UCS (path find, implemented on romainian map(don't know why))\n",
    "# 4- Greedy using heuristics (path find, implemented on romainian map)\n",
    "# 5- A* (path find in a maze, findding path for robot out of maze)\n",
    "# 6- Hill Climbing (path find in a maze, findding path for robot out of maze)\n",
    "# 7- CSP=> constraint satisfaction problem ( map coloring, course registration for a student to graduate )\n",
    "# 8- ML Assigment: implemented multiple linear regression using gradient descent without using any library on housing dataset\n",
    "# 9- web: added the react router, and configured the routes for the app and made the sign in and sign up page functional"
   ]
  },
  {
   "cell_type": "code",
   "execution_count": null,
   "metadata": {},
   "outputs": [],
   "source": [
    "# astar\n"
   ]
  }
 ],
 "metadata": {
  "kernelspec": {
   "display_name": "base",
   "language": "python",
   "name": "python3"
  },
  "language_info": {
   "codemirror_mode": {
    "name": "ipython",
    "version": 3
   },
   "file_extension": ".py",
   "mimetype": "text/x-python",
   "name": "python",
   "nbconvert_exporter": "python",
   "pygments_lexer": "ipython3",
   "version": "3.11.4"
  },
  "orig_nbformat": 4
 },
 "nbformat": 4,
 "nbformat_minor": 2
}
