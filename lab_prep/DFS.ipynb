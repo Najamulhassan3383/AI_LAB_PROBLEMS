{
 "cells": [
  {
   "cell_type": "markdown",
   "metadata": {},
   "source": [
    "DFS with stack"
   ]
  },
  {
   "cell_type": "code",
   "execution_count": 2,
   "metadata": {},
   "outputs": [],
   "source": [
    "class Node:\n",
    "    def __init__(self, state, parent, neighbor, total_cost, level):\n",
    "        self.state = state\n",
    "        self.parent = parent\n",
    "        self.neighbor = neighbor\n",
    "        self.total_cost = total_cost\n",
    "        self.level = level"
   ]
  },
  {
   "cell_type": "code",
   "execution_count": 3,
   "metadata": {},
   "outputs": [],
   "source": [
    "Graph = {\n",
    "    'A': Node('A', None, ['B', 'C', 'E'], 0, 0),\n",
    "    'B': Node('B', None, ['A', 'D', 'E'], 0, 0),\n",
    "    'C': Node('C', None, ['A', 'F', 'G'], 0, 0),\n",
    "    'D': Node('D', None, ['B', 'E'], 0, 0),\n",
    "    'E': Node('E', None, ['A', 'B', 'D'], 0, 0),\n",
    "    'F': Node('F', None, ['C'], 0, 0),\n",
    "    'G': Node('G', None, ['C'], 0, 0)\n",
    "}"
   ]
  },
  {
   "cell_type": "code",
   "execution_count": 6,
   "metadata": {},
   "outputs": [],
   "source": [
    "def DFS(start, end, graph):\n",
    "    stack = []\n",
    "    explored = []\n",
    "    stack.append(start)\n",
    "    explored.append(start)\n",
    "    while(stack):\n",
    "        node = stack.pop(len(stack)-1)\n",
    "        \n",
    "        if(node == end):\n",
    "            return node\n",
    "        \n",
    "        #explore its neighbours\n",
    "        for neighbour in graph[node].neighbor:\n",
    "            if(neighbour not in explored and neighbour not in stack ):\n",
    "                stack.append(neighbour)\n",
    "                explored.append(neighbour)\n",
    "            else:\n",
    "                continue\n",
    "    return None\n",
    "    "
   ]
  },
  {
   "cell_type": "code",
   "execution_count": 7,
   "metadata": {},
   "outputs": [
    {
     "data": {
      "text/plain": [
       "'D'"
      ]
     },
     "execution_count": 7,
     "metadata": {},
     "output_type": "execute_result"
    }
   ],
   "source": [
    "DFS('A','D',Graph)"
   ]
  },
  {
   "cell_type": "markdown",
   "metadata": {},
   "source": [
    "DFS with path"
   ]
  },
  {
   "cell_type": "code",
   "execution_count": null,
   "metadata": {},
   "outputs": [],
   "source": [
    "def DFS_with_path(start, end, graph):\n",
    "    explore = []\n",
    "    stack = []\n",
    "    explore.append(start)\n",
    "    stack.append(start)\n",
    "    while stack:\n",
    "        current_node = stack.pop(len(stack)-1)\n",
    "        # check if is the goal \n",
    "        "
   ]
  }
 ],
 "metadata": {
  "kernelspec": {
   "display_name": "base",
   "language": "python",
   "name": "python3"
  },
  "language_info": {
   "codemirror_mode": {
    "name": "ipython",
    "version": 3
   },
   "file_extension": ".py",
   "mimetype": "text/x-python",
   "name": "python",
   "nbconvert_exporter": "python",
   "pygments_lexer": "ipython3",
   "version": "3.11.4"
  },
  "orig_nbformat": 4
 },
 "nbformat": 4,
 "nbformat_minor": 2
}
