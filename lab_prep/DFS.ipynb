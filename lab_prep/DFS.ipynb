{
 "cells": [
  {
   "cell_type": "markdown",
   "metadata": {},
   "source": [
    "DFS with stack"
   ]
  },
  {
   "cell_type": "code",
   "execution_count": 2,
   "metadata": {},
   "outputs": [],
   "source": [
    "class Node:\n",
    "    def __init__(self, state, parent, neighbor, total_cost, level):\n",
    "        self.state = state\n",
    "        self.parent = parent\n",
    "        self.neighbor = neighbor\n",
    "        self.total_cost = total_cost\n",
    "        self.level = level"
   ]
  },
  {
   "cell_type": "code",
   "execution_count": 50,
   "metadata": {},
   "outputs": [],
   "source": [
    "Graph = {\n",
    "    'A': Node('A', None, ['B', 'C', 'E'], 0, 0),\n",
    "    'B': Node('B', None, ['A', 'D', 'E'], 0, 0),\n",
    "    'C': Node('C', None, ['A', 'F', 'G'], 0, 0),\n",
    "    'D': Node('D', None, ['B', 'E'], 0, 0),\n",
    "    'E': Node('E', None, ['A', 'B', 'D'], 0, 0),\n",
    "    'F': Node('F', None, ['C'], 0, 0),\n",
    "    'G': Node('G', None, ['C'], 0, 0)\n",
    "}"
   ]
  },
  {
   "cell_type": "code",
   "execution_count": 34,
   "metadata": {},
   "outputs": [],
   "source": [
    "def DFS(start, end, graph):\n",
    "    stack = []\n",
    "    explored = []\n",
    "    stack.append(start)\n",
    "    explored.append(start)\n",
    "    while(stack):\n",
    "        node = stack.pop(len(stack)-1)\n",
    "        \n",
    "        if(node == end):\n",
    "            return node\n",
    "        \n",
    "        #explore its neighbours\n",
    "        for neighbour in graph[node].neighbor:\n",
    "            if(neighbour not in explored and neighbour not in stack ):\n",
    "                stack.append(neighbour)\n",
    "                explored.append(neighbour)\n",
    "            else:\n",
    "                continue\n",
    "    return None\n",
    "    "
   ]
  },
  {
   "cell_type": "code",
   "execution_count": 35,
   "metadata": {},
   "outputs": [
    {
     "data": {
      "text/plain": [
       "'D'"
      ]
     },
     "execution_count": 35,
     "metadata": {},
     "output_type": "execute_result"
    }
   ],
   "source": [
    "DFS('A','D',Graph)"
   ]
  },
  {
   "cell_type": "markdown",
   "metadata": {},
   "source": [
    "DFS with path"
   ]
  },
  {
   "cell_type": "code",
   "execution_count": 36,
   "metadata": {},
   "outputs": [],
   "source": [
    "def actionSequence(start, goal, Graph):\n",
    "    path = [goal]\n",
    "    parent = Graph[goal].parent\n",
    "    # print(\"parent of start is \", Graph[start].parent)\n",
    "    while parent != start:\n",
    "        # print(parent)\n",
    "        path.append(parent)\n",
    "        parent = Graph[parent].parent\n",
    "    path.append(start)\n",
    "    path.reverse()\n",
    "    return path"
   ]
  },
  {
   "cell_type": "code",
   "execution_count": 67,
   "metadata": {},
   "outputs": [],
   "source": [
    "def DFS_with_path(start, end, graph):\n",
    "    explore = []\n",
    "    stack = []\n",
    "    explore.append(start)\n",
    "    stack.append(start)\n",
    "    while stack:\n",
    "        current_node = stack.pop()\n",
    "        print(current_node)\n",
    "        \n",
    "        noOfChilds = 0\n",
    "        \n",
    "        for node in graph[current_node].neighbor:\n",
    "            if node not in explore and node not in stack:\n",
    "                graph[node].parent = current_node\n",
    "                if node == end:\n",
    "                    return actionSequence(start, end, graph)\n",
    "                \n",
    "                stack.append(node)\n",
    "                noOfChilds += 1\n",
    "        if noOfChilds == 0:\n",
    "            stack.pop()  # Remove current node from the stack if it has no unexplored neighbors\n",
    "    return None"
   ]
  },
  {
   "cell_type": "code",
   "execution_count": 68,
   "metadata": {},
   "outputs": [
    {
     "name": "stdout",
     "output_type": "stream",
     "text": [
      "D\n",
      "E\n",
      "A\n"
     ]
    },
    {
     "data": {
      "text/plain": [
       "['D', 'E', 'A', 'C']"
      ]
     },
     "execution_count": 68,
     "metadata": {},
     "output_type": "execute_result"
    }
   ],
   "source": [
    "DFS_with_path('D','C',Graph)"
   ]
  },
  {
   "cell_type": "code",
   "execution_count": 70,
   "metadata": {},
   "outputs": [],
   "source": [
    "Romania_map = {\n",
    "    'Arad': Node('Arad', None, ['Zerind', 'Sibiu', 'Timisoara'], 0, 0),\n",
    "    'Zerind': Node('Zerind', None, ['Arad', 'Oradea'], 0, 0),\n",
    "    'Oradea': Node('Oradea', None, ['Zerind', 'Sibiu'], 0, 0),\n",
    "    'Sibiu': Node('Sibiu', None, ['Arad', 'Oradea', 'Fagaras', 'Rimnicu Vilcea'], 0, 0),\n",
    "    'Timisoara': Node('Timisoara', None, ['Arad', 'Lugoj'], 0, 0),\n",
    "    'Lugoj': Node('Lugoj', None, ['Timisoara', 'Mehadia'], 0, 0),\n",
    "    'Mehadia': Node('Mehadia', None, ['Lugoj', 'Drobeta'], 0, 0),\n",
    "    'Drobeta': Node('Drobeta', None, ['Mehadia', 'Craiova'], 0, 0),\n",
    "    'Craiova': Node('Craiova', None, ['Drobeta', 'Rimnicu Vilcea', 'Pitesti'], 0, 0),\n",
    "    'Rimnicu Vilcea': Node('Rimnicu Vilcea', None, ['Sibiu', 'Pitesti', 'Craiova'], 0, 0),\n",
    "    'Fagaras': Node('Fagaras', None, ['Sibiu', 'Bucharest'], 0, 0),\n",
    "    'Pitesti': Node('Pitesti', None, ['Rimnicu Vilcea', 'Craiova', 'Bucharest'], 0, 0),\n",
    "    'Bucharest': Node('Bucharest', None, ['Fagaras', 'Pitesti', 'Giurgiu', 'Urziceni'], 0, 0),\n",
    "    'Giurgiu': Node('Giurgiu', None, ['Bucharest'], 0, 0),\n",
    "    'Urziceni': Node('Urziceni', None, ['Bucharest', 'Vaslui', 'Hirsova'], 0, 0),\n",
    "    'Vaslui': Node('Vaslui', None, ['Urziceni', 'Iasi'], 0, 0),\n",
    "    'Iasi': Node('Iasi', None, ['Vaslui', 'Neamt'], 0, 0),\n",
    "    'Neamt': Node('Neamt', None, ['Iasi'], 0, 0)\n",
    "}\n",
    "    \n",
    "    \n",
    "    "
   ]
  },
  {
   "cell_type": "code",
   "execution_count": 71,
   "metadata": {},
   "outputs": [
    {
     "name": "stdout",
     "output_type": "stream",
     "text": [
      "Arad\n",
      "Timisoara\n",
      "Lugoj\n",
      "Mehadia\n",
      "Drobeta\n",
      "Craiova\n",
      "Pitesti\n"
     ]
    },
    {
     "data": {
      "text/plain": [
       "['Arad',\n",
       " 'Timisoara',\n",
       " 'Lugoj',\n",
       " 'Mehadia',\n",
       " 'Drobeta',\n",
       " 'Craiova',\n",
       " 'Pitesti',\n",
       " 'Bucharest']"
      ]
     },
     "execution_count": 71,
     "metadata": {},
     "output_type": "execute_result"
    }
   ],
   "source": [
    "DFS_with_path(\"Arad\",'Bucharest', Romania_map)"
   ]
  },
  {
   "cell_type": "code",
   "execution_count": 1,
   "metadata": {},
   "outputs": [
    {
     "data": {
      "text/plain": [
       "{'NOTE', 'SAND', 'STONED'}"
      ]
     },
     "execution_count": 1,
     "metadata": {},
     "output_type": "execute_result"
    }
   ],
   "source": [
    "# Define the dictionary of words\n",
    "dictionary = ['START', 'NOTE', 'SAND', 'STONED']  # Add more words to the dictionary\n",
    "\n",
    "# Define the board of letters\n",
    "\n",
    "board = [\n",
    "    [\"M\", \"S\", \"E\", \"F\"],\n",
    "    [\"R\", \"A\", \"T\", \"D\"],\n",
    "    [\"L\", \"O\", \"N\", \"E\"],\n",
    "    [\"K\", \"A\", \"F\", \"B\"]\n",
    "]\n",
    "# Define directions for exploring neighboring cells (horizontally, vertically, diagonally)\n",
    "directions = [(0, 1), (1, 0), (-1, 0), (0, -1), (1, 1), (-1, -1), (1, -1), (-1, 1)]\n",
    "found_words = set()\n",
    "def DFS_for_boogle(x,y,visited, current_word):\n",
    "    \n",
    "    #base case if the current word is in the dictionary\n",
    "    if current_word in dictionary:\n",
    "        found_words.add(current_word)\n",
    "        return\n",
    "    #if its not in the dictionary then we will explore its neighbors\n",
    "    for direction in directions:\n",
    "        new_x = x + direction[0]\n",
    "        new_y = y + direction[1]\n",
    "        #check if the new coordinates are in the board\n",
    "        if new_x >= 0 and new_x < len(board) and new_y >= 0 and new_y < len(board[0]):\n",
    "            #check if the new coordinates are not visited\n",
    "            if visited[new_x][new_y] == False:\n",
    "                #mark the new coordinates as visited\n",
    "                visited[new_x][new_y] = True\n",
    "                #add the new letter to the current word\n",
    "                current_word += board[new_x][new_y]\n",
    "                #recursively call the function\n",
    "                DFS_for_boogle(new_x, new_y, visited, current_word)\n",
    "                #backtrack\n",
    "                current_word = current_word[:-1]\n",
    "                visited[new_x][new_y] = False\n",
    "    return found_words\n",
    "\n",
    "\n",
    "def find_words(board):\n",
    "    visited = [[False for _ in range(len(board[0]))] for _ in range(len(board))]\n",
    "    for i in range(len(board)):\n",
    "        for j in range(len(board[0])):\n",
    "            visited[i][j] = True\n",
    "            DFS_for_boogle(i, j, visited, board[i][j])\n",
    "            visited[i][j] = False\n",
    "    return found_words\n",
    "\n",
    "find_words(board)\n",
    "    \n",
    "\n",
    "\n",
    "\n",
    "\n"
   ]
  },
  {
   "cell_type": "code",
   "execution_count": 77,
   "metadata": {},
   "outputs": [
    {
     "name": "stdout",
     "output_type": "stream",
     "text": [
      "{'SAND', 'NOTE', 'STONED'}\n"
     ]
    }
   ],
   "source": [
    "# Below lists detail all eight possible movements from a cell\n",
    "# (top, right, bottom, left, and four diagonal moves)\n",
    "row = [-1, -1, -1, 0, 1, 0, 1, 1]\n",
    "col = [-1, 1, 0, -1, -1, 1, 0, 1]\n",
    "\n",
    "\n",
    "# Function to check if it is safe to go to cell (x, y) from the current cell.\n",
    "# The function returns false if (x, y) is not valid matrix coordinates\n",
    "# or cell (x, y) is already processed.\n",
    "def isSafe(x, y, processed):\n",
    "\treturn (0 <= x < len(processed)) and (0 <= y < len(processed[0]))\\\n",
    "\t\tand not processed[x][y]\n",
    "\n",
    "\n",
    "# A recursive function to generate all possible words in a boggle\n",
    "def searchBoggle(board, words, result, processed, i, j, path=''):\n",
    "\t# mark the current node as processed\n",
    "\tprocessed[i][j] = True\n",
    "\n",
    "\t# update the path with the current character and insert it into the set\n",
    "\tpath += board[i][j]\n",
    "\n",
    "\t# check whether the path is present in the input set\n",
    "\tif path in words:\n",
    "\t\tresult.add(path)\n",
    "\n",
    "\t# check for all eight possible movements from the current cell\n",
    "\tfor k in range(len(row)):\n",
    "\t\t# skip if a cell is invalid, or it is already processed\n",
    "\t\tif isSafe(i + row[k], j + col[k], processed):\n",
    "\t\t\tsearchBoggle(board, words, result, processed, i + row[k], j + col[k], path)\n",
    "\n",
    "\t# backtrack: mark the current node as unprocessed\n",
    "\tprocessed[i][j] = False\n",
    "\n",
    "\n",
    "def searchInBoggle(board, words):\n",
    "\n",
    "\t# construct a set to store valid words constructed from the boggle\n",
    "\tresult = set()\n",
    "\n",
    "\t# base case\n",
    "\tif not board or not len(board):\n",
    "\t\treturn\n",
    "\n",
    "\t# `M × N` board\n",
    "\t(M, N) = (len(board), len(board[0]))\n",
    "\n",
    "\t# construct a boolean matrix to store whether a cell is processed or not\n",
    "\tprocessed = [[False for x in range(N)] for y in range(M)]\n",
    "\n",
    "\t# generate all possible words in a boggle\n",
    "\tfor i in range(M):\n",
    "\t\tfor j in range(N):\n",
    "\t\t\t# consider each character as a starting point and run DFS\n",
    "\t\t\tsearchBoggle(board, words, result, processed, i, j)\n",
    "\n",
    "\treturn result\n",
    "\n",
    "\n",
    "\n",
    "board = [\n",
    "['M', 'S', 'E', 'F'],\n",
    "['R', 'A', 'T', 'D'],\n",
    "['L', 'O', 'N', 'E'],\n",
    "['K', 'A', 'F', 'B'],\n",
    "]\n",
    "words = ['START', 'NOTE', 'SAND', 'STONED', 'STONET']\n",
    "\n",
    "validWords = searchInBoggle(board, words)\n",
    "print(validWords)"
   ]
  }
 ],
 "metadata": {
  "kernelspec": {
   "display_name": "base",
   "language": "python",
   "name": "python3"
  },
  "language_info": {
   "codemirror_mode": {
    "name": "ipython",
    "version": 3
   },
   "file_extension": ".py",
   "mimetype": "text/x-python",
   "name": "python",
   "nbconvert_exporter": "python",
   "pygments_lexer": "ipython3",
   "version": "3.11.4"
  },
  "orig_nbformat": 4
 },
 "nbformat": 4,
 "nbformat_minor": 2
}
